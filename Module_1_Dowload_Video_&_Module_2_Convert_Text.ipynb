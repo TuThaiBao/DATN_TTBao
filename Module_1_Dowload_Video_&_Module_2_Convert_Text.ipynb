{
  "cells": [
    {
      "cell_type": "markdown",
      "source": [
        "## Module 1: Dowload Video"
      ],
      "metadata": {
        "id": "TNg1HedRdIG7"
      }
    },
    {
      "cell_type": "code",
      "execution_count": null,
      "metadata": {
        "colab": {
          "base_uri": "https://localhost:8080/"
        },
        "id": "8dd_jL4zIxKG",
        "outputId": "4b3c5b45-a9f6-47bd-f1f1-c01fb4636470"
      },
      "outputs": [
        {
          "output_type": "stream",
          "name": "stdout",
          "text": [
            "Collecting pytube\n",
            "  Downloading pytube-15.0.0-py3-none-any.whl (57 kB)\n",
            "\u001b[2K     \u001b[90m━━━━━━━━━━━━━━━━━━━━━━━━━━━━━━━━━━━━━━━━\u001b[0m \u001b[32m57.6/57.6 kB\u001b[0m \u001b[31m1.5 MB/s\u001b[0m eta \u001b[36m0:00:00\u001b[0m\n",
            "\u001b[?25hInstalling collected packages: pytube\n",
            "Successfully installed pytube-15.0.0\n"
          ]
        }
      ],
      "source": [
        "!pip install pytube"
      ]
    },
    {
      "cell_type": "code",
      "execution_count": null,
      "metadata": {
        "id": "AaEYLwWsIxKJ"
      },
      "outputs": [],
      "source": [
        "from multiprocessing import Pool\n",
        "from pytube import YouTube\n",
        "from pytube import Playlist\n",
        "import os\n",
        "from concurrent.futures import ThreadPoolExecutor\n",
        "import re\n",
        "\n",
        "def download_video(video_url, download_path):\n",
        "    try:\n",
        "        yt = YouTube(video_url)\n",
        "        if yt.length <= 300:\n",
        "            video_title = re.sub(r'[^\\w\\s]', '', yt.title).replace(' ', '_')\n",
        "            video_filename = f\"{video_title}.mp4\"\n",
        "\n",
        "            if video_filename in [f for f in os.listdir(download_path) if f.endswith('.mp4')]:\n",
        "                print(f\"Video '{video_title}' đã tồn tại, bỏ qua.\")\n",
        "                return\n",
        "\n",
        "            video_stream = yt.streams.get_highest_resolution()\n",
        "            video_stream.download(output_path=download_path, filename=video_filename)\n",
        "            print(f\"Tải xuống {video_title} hoàn thành.\")\n",
        "        else:\n",
        "            print(f\"Bỏ qua {yt.title} vì độ dài lớn hơn 5 phút.\")\n",
        "    except Exception as e:\n",
        "        print(f\"Lỗi khi tải xuống {video_url}: {e}\")"
      ]
    },
    {
      "cell_type": "code",
      "execution_count": null,
      "metadata": {
        "id": "85w4ayB0I1ze"
      },
      "outputs": [],
      "source": [
        "def main():\n",
        "    playlist_url = 'https://youtube.com/playlist?list=PLH6o6WQeJwt2Z83ClxRkEsQwi6B1X6IdO&si=pg6G15KukaQK2Bo5'\n",
        "    download_path = '/content/Giáo dục'\n",
        "\n",
        "    if not os.path.exists(download_path):\n",
        "        os.makedirs(download_path)\n",
        "\n",
        "    playlist = Playlist(playlist_url)\n",
        "    video_urls = playlist.video_urls\n",
        "\n",
        "    with ThreadPoolExecutor(max_workers=300) as executor:\n",
        "        for x in range(2):\n",
        "            for video_url in video_urls:\n",
        "                executor.submit(download_video, video_url, download_path)\n",
        "\n",
        "if __name__ == \"__main__\":\n",
        "    main()"
      ]
    },
    {
      "cell_type": "markdown",
      "source": [
        "# Module 2: Convert Video to Text"
      ],
      "metadata": {
        "id": "cKt9666RdUel"
      }
    },
    {
      "cell_type": "code",
      "execution_count": null,
      "metadata": {
        "id": "Clzk54lUIxKK"
      },
      "outputs": [],
      "source": [
        "pip install pydub"
      ]
    },
    {
      "cell_type": "code",
      "execution_count": null,
      "metadata": {
        "id": "nGS1ebGkIxKL"
      },
      "outputs": [],
      "source": [
        "pip install SpeechRecognition"
      ]
    },
    {
      "cell_type": "code",
      "execution_count": null,
      "metadata": {
        "id": "G39A7iE6IxKL"
      },
      "outputs": [],
      "source": [
        "pip install moviepy"
      ]
    },
    {
      "cell_type": "code",
      "execution_count": null,
      "metadata": {
        "id": "VG8WwCw_IxKL"
      },
      "outputs": [],
      "source": [
        "import os\n",
        "from moviepy.editor import VideoFileClip\n",
        "from pydub import AudioSegment\n",
        "import speech_recognition as sr\n",
        "import concurrent.futures"
      ]
    },
    {
      "cell_type": "code",
      "execution_count": null,
      "metadata": {
        "id": "4eNrzq5WIxKM"
      },
      "outputs": [],
      "source": [
        "def mp3_to_text(mp3_path, language=\"vi-VN\"):\n",
        "    audio = AudioSegment.from_mp3(mp3_path)\n",
        "    wav_path = mp3_path.replace(\".mp3\", \".wav\")\n",
        "    audio.export(wav_path, format=\"wav\")\n",
        "\n",
        "    recognizer = sr.Recognizer()\n",
        "    with sr.AudioFile(wav_path) as source:\n",
        "        audio_data = recognizer.record(source)\n",
        "\n",
        "    try:\n",
        "        text = recognizer.recognize_google(audio_data, language=language)\n",
        "        return text\n",
        "    except sr.UnknownValueError:\n",
        "        return \"Không nhận dạng được giọng nói.\"\n",
        "    except sr.RequestError:\n",
        "        return \"Lỗi kết nối tới API nhận dạng giọng nói.\"\n",
        "\n",
        "def process_video(video_filename, video_folder, audio_output_folder, text_output_folder):\n",
        "    video_path = os.path.join(video_folder, video_filename)\n",
        "    audio_output_path = os.path.join(audio_output_folder, f\"{os.path.splitext(video_filename)[0]}.wav\")\n",
        "    text_output_path = os.path.join(text_output_folder, f\"{os.path.splitext(video_filename)[0]}.txt\")\n",
        "\n",
        "    convert_mp4_to_wav(video_path, audio_output_path)\n",
        "    mp3_to_text(audio_output_path)\n",
        "\n",
        "    # Kiểm tra và xác thực kết quả nhận dạng giọng nói\n",
        "    recognized_text = mp3_to_text(audio_output_path)\n",
        "    if \"Lỗi kết nối tới API\" in recognized_text:\n",
        "        recognized_text = \"Không nhận dạng được giọng nói.\"\n",
        "    with open(text_output_path, \"w\", encoding=\"utf-8\") as text_file:\n",
        "        text_file.write(recognized_text)\n",
        "\n",
        "    print(f\"Đã xử lý video {video_filename}, lưu âm thanh vào {audio_output_path}, và lưu văn bản vào {text_output_path}\")\n",
        "\n",
        "def convert_mp4_to_wav(input_path, output_path):\n",
        "    video_clip = VideoFileClip(input_path)\n",
        "    audio_clip = video_clip.audio\n",
        "    audio_clip.write_audiofile(output_path)\n",
        "\n",
        "\n",
        "def process_audio(audio_path, text_output_path):\n",
        "    recognized_text = mp3_to_text(audio_path)\n",
        "    if \"Lỗi kết nối tới API\" in recognized_text:\n",
        "        recognized_text = \"Không nhận dạng được giọng nói.\"\n",
        "    with open(text_output_path, \"w\", encoding=\"utf-8\") as text_file:\n",
        "        text_file.write(recognized_text)\n",
        "\n",
        "        #  video_folder = \"//content/drive/MyDrive/Data_Video/data\""
      ]
    },
    {
      "cell_type": "code",
      "execution_count": null,
      "metadata": {
        "id": "jfa0RPhcIxKM"
      },
      "outputs": [],
      "source": [
        "if __name__ == \"__main__\":\n",
        "    video_folder = \"/content/Giáo dục\"\n",
        "    audio_output_folder = \"audio_path1\"\n",
        "    output_text_folder = \"/content/Giaoduc\"\n",
        "\n",
        "    if not os.path.exists(audio_output_folder):\n",
        "        os.makedirs(audio_output_folder)\n",
        "\n",
        "    if not os.path.exists(output_text_folder):\n",
        "        os.makedirs(output_text_folder)\n",
        "\n",
        "    with concurrent.futures.ThreadPoolExecutor() as executor:\n",
        "        video_filenames = [filename for filename in os.listdir(video_folder) if filename.endswith(\".mp4\")]\n",
        "        for video_filename in video_filenames:\n",
        "            video_path = os.path.join(video_folder, video_filename)\n",
        "            audio_output_path = os.path.join(audio_output_folder, f\"{os.path.splitext(video_filename)[0]}.wav\")\n",
        "            text_output_path = os.path.join(output_text_folder, f\"{os.path.splitext(video_filename)[0]}.txt\")\n",
        "\n",
        "            # Kiểm tra nếu tệp văn bản đã tồn tại, bỏ qua nếu đã tồn tại\n",
        "            if os.path.exists(text_output_path):\n",
        "                print(f\"Tệp văn bản {text_output_path} đã tồn tại. Bỏ qua xử lý.\")\n",
        "            else:\n",
        "                try:\n",
        "                    convert_mp4_to_wav(video_path, audio_output_path)\n",
        "                    executor.submit(process_audio, audio_output_path, text_output_path)\n",
        "\n",
        "                    print(f\"Đã xử lý video {video_filename}, lưu âm thanh vào {audio_output_path}, và lưu văn bản vào {text_output_path}\")\n",
        "                except OSError as e:\n",
        "                    print(f\"Lỗi khi xử lý video {video_filename}: {e}. Bỏ qua xử lý.\")\n"
      ]
    },
    {
      "cell_type": "code",
      "execution_count": null,
      "metadata": {
        "id": "b6mB7hfmIxKN"
      },
      "outputs": [],
      "source": [
        "import os\n",
        "\n",
        "folder_path = '/content/Giaoduc'  # Đường dẫn đến thư mục chứa các tệp txt\n",
        "\n",
        "def process_text_file(file_path):\n",
        "    try:\n",
        "        with open(file_path, 'r', encoding='utf-8') as file:  # Sửa thành encoding='utf-8'\n",
        "            content = file.read()\n",
        "            if \"Không nhận dạng được giọng nói.\" in content or \"Lỗi kết nối tới API.\" in content or \"Lỗi kết nối tới API nhận dạng giọng nói.\" in content:\n",
        "                os.remove(file_path)\n",
        "                print(f\"Đã xóa tệp: {file_path}\")\n",
        "    except Exception as e:\n",
        "        print(f\"Lỗi khi xử lý tệp {file_path}: {e}\")\n",
        "\n",
        "def main():\n",
        "    # Lặp qua tất cả các tệp trong thư mục\n",
        "    for filename in os.listdir(folder_path):\n",
        "        if filename.endswith('.txt'):\n",
        "            file_path = os.path.join(folder_path, filename)\n",
        "            process_text_file(file_path)\n",
        "\n",
        "if __name__ == \"__main__\":\n",
        "    main()\n"
      ]
    },
    {
      "cell_type": "code",
      "execution_count": null,
      "metadata": {
        "id": "XdIIhhvNIxKN"
      },
      "outputs": [],
      "source": [
        "import os\n",
        "import zipfile\n",
        "\n",
        "# Thư mục bạn muốn nén\n",
        "source_folder = \"/content/Giaoduc\"  # Thay thế bằng đường dẫn thư mục bạn muốn nén\n",
        "\n",
        "# Tạo tên file zip và đường dẫn lưu trữ file zip\n",
        "zip_file_name = \"GD.zip\"\n",
        "zip_file_path = \"/content/\" + zip_file_name\n",
        "\n",
        "# Nén thư mục\n",
        "with zipfile.ZipFile(zip_file_path, 'w') as zipf:\n",
        "    for root, _, files in os.walk(source_folder):\n",
        "        for file in files:\n",
        "            file_path = os.path.join(root, file)\n",
        "            zipf.write(file_path, os.path.relpath(file_path, source_folder))\n",
        "\n",
        "print(\"Đã nén thư mục thành công.\")"
      ]
    }
  ],
  "metadata": {
    "colab": {
      "provenance": [],
      "gpuType": "T4"
    },
    "kernelspec": {
      "display_name": "Python 3",
      "name": "python3"
    },
    "language_info": {
      "codemirror_mode": {
        "name": "ipython",
        "version": 3
      },
      "file_extension": ".py",
      "mimetype": "text/x-python",
      "name": "python",
      "nbconvert_exporter": "python",
      "pygments_lexer": "ipython3",
      "version": "3.10.12"
    },
    "accelerator": "GPU"
  },
  "nbformat": 4,
  "nbformat_minor": 0
}